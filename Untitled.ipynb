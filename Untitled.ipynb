{
 "cells": [
  {
   "cell_type": "code",
   "execution_count": 10,
   "metadata": {},
   "outputs": [],
   "source": [
    "import pybamm"
   ]
  },
  {
   "cell_type": "code",
   "execution_count": 16,
   "metadata": {},
   "outputs": [],
   "source": [
    "model = pybamm.lead_acid.Full()"
   ]
  },
  {
   "cell_type": "code",
   "execution_count": 12,
   "metadata": {},
   "outputs": [
    {
     "data": {
      "text/plain": [
       "<pybamm.models.full_battery_models.lead_acid.full.Full at 0x7fc8ee496450>"
      ]
     },
     "execution_count": 12,
     "metadata": {},
     "output_type": "execute_result"
    }
   ],
   "source": [
    "pybamm.lead_acid.Full()"
   ]
  },
  {
   "cell_type": "code",
   "execution_count": 13,
   "metadata": {},
   "outputs": [
    {
     "name": "stdout",
     "output_type": "stream",
     "text": [
      "\n",
      "Option                        Current value       Possible values                                   \n",
      "====================================================================================================\n",
      "operating mode                current             current, voltage, power                           \n",
      "dimensionality                0                   0, 1, 2                                           \n",
      "surface form                  False               False, differential, algebriac                    \n",
      "side reactions                List of length 0    List of strings                                   \n",
      "convection                    False               False, True                                       \n",
      "current collector             uniform             uniform, potential pair, potential pair quite conductive\n",
      "thermal                       isothermal          isothermal, x-full, x-lumped, xyz-lumped          \n",
      "external submodels            List of length 0    List of strings                                   \n",
      "\n",
      "Rules\n",
      "====================================================================================================\n",
      "Thermal models only available for dimensionality = 0\n",
      "\n"
     ]
    }
   ],
   "source": [
    "model.options.info()"
   ]
  },
  {
   "cell_type": "code",
   "execution_count": 14,
   "metadata": {},
   "outputs": [],
   "source": [
    "model.options[\"dimensionality\"] = 2\n",
    "model.options[\"thermal\"] = \"x-full\""
   ]
  },
  {
   "cell_type": "code",
   "execution_count": 17,
   "metadata": {},
   "outputs": [],
   "source": [
    "model.options.check_rules()"
   ]
  },
  {
   "cell_type": "code",
   "execution_count": 18,
   "metadata": {},
   "outputs": [
    {
     "data": {
      "text/plain": [
       "{'Thermal models only available for dimensionality = 0': <function pybamm.models.full_battery_models.lead_acid.base_lead_acid_model.BaseModel.reset_options.<locals>.<lambda>(x)>}"
      ]
     },
     "execution_count": 18,
     "metadata": {},
     "output_type": "execute_result"
    }
   ],
   "source": [
    "model.options.rules"
   ]
  },
  {
   "cell_type": "code",
   "execution_count": null,
   "metadata": {},
   "outputs": [],
   "source": []
  }
 ],
 "metadata": {
  "kernelspec": {
   "display_name": "Python 3",
   "language": "python",
   "name": "python3"
  },
  "language_info": {
   "codemirror_mode": {
    "name": "ipython",
    "version": 3
   },
   "file_extension": ".py",
   "mimetype": "text/x-python",
   "name": "python",
   "nbconvert_exporter": "python",
   "pygments_lexer": "ipython3",
   "version": "3.7.5"
  }
 },
 "nbformat": 4,
 "nbformat_minor": 2
}
