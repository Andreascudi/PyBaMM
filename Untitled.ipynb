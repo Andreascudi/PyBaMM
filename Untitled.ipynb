{
 "cells": [
  {
   "cell_type": "code",
   "execution_count": 1,
   "metadata": {},
   "outputs": [],
   "source": [
    "import pybamm"
   ]
  },
  {
   "cell_type": "code",
   "execution_count": 2,
   "metadata": {},
   "outputs": [],
   "source": [
    "options = pybamm.ModelOptions()"
   ]
  },
  {
   "cell_type": "code",
   "execution_count": 3,
   "metadata": {},
   "outputs": [
    {
     "name": "stdout",
     "output_type": "stream",
     "text": [
      "\n",
      "Option                        Current value       Other values                                      \n",
      "====================================================================================================\n",
      "dimensionality                0                   0, 1, 2                                           \n",
      "surface form                  False               False, differential, algebriac                    \n",
      "convection                    False               False, True                                       \n",
      "side reactions                List of length 0    List of strings                                   \n",
      "interfacial surface area      constant            constant                                          \n",
      "current collector             uniform             uniform, potential pair, potential pair quite conductive\n",
      "particle                      Fickian diffusion   Fickian diffusion, fast diffusion                 \n",
      "thermal                       isothermal          isothermal, x-full, x-lumped, xyz-lumped, lumped  \n",
      "thermal current collector     False               False, True                                       \n",
      "external submodels            List of length 0    List of strings                                   \n",
      "\n"
     ]
    }
   ],
   "source": [
    "options.info()"
   ]
  },
  {
   "cell_type": "code",
   "execution_count": 4,
   "metadata": {},
   "outputs": [
    {
     "name": "stdout",
     "output_type": "stream",
     "text": [
      "Current value = 0 (int)\n",
      "Possible values = [0, 1, 2] (int, int, int)\n"
     ]
    }
   ],
   "source": [
    "options[\"dimensionality\"].info()"
   ]
  },
  {
   "cell_type": "code",
   "execution_count": 5,
   "metadata": {},
   "outputs": [],
   "source": [
    "options[\"dimensionality\"] = 1"
   ]
  },
  {
   "cell_type": "code",
   "execution_count": 6,
   "metadata": {},
   "outputs": [
    {
     "name": "stdout",
     "output_type": "stream",
     "text": [
      "Current value = 1 (int)\n",
      "Possible values = [0, 1, 2] (int, int, int)\n"
     ]
    }
   ],
   "source": [
    "options[\"dimensionality\"].info()"
   ]
  },
  {
   "cell_type": "code",
   "execution_count": 7,
   "metadata": {},
   "outputs": [
    {
     "name": "stdout",
     "output_type": "stream",
     "text": [
      "\n",
      "Option                        Current value       Other values                                      \n",
      "====================================================================================================\n",
      "dimensionality                1                   0, 1, 2                                           \n",
      "surface form                  False               False, differential, algebriac                    \n",
      "convection                    False               False, True                                       \n",
      "side reactions                List of length 0    List of strings                                   \n",
      "interfacial surface area      constant            constant                                          \n",
      "current collector             uniform             uniform, potential pair, potential pair quite conductive\n",
      "particle                      Fickian diffusion   Fickian diffusion, fast diffusion                 \n",
      "thermal                       isothermal          isothermal, x-full, x-lumped, xyz-lumped, lumped  \n",
      "thermal current collector     False               False, True                                       \n",
      "external submodels            List of length 0    List of strings                                   \n",
      "\n"
     ]
    }
   ],
   "source": [
    "options.info()"
   ]
  },
  {
   "cell_type": "code",
   "execution_count": 8,
   "metadata": {},
   "outputs": [
    {
     "name": "stdout",
     "output_type": "stream",
     "text": [
      "Current value = Fickian diffusion (str)\n",
      "Possible values = [Fickian diffusion, fast diffusion] (str, str)\n"
     ]
    }
   ],
   "source": [
    "options[\"particle\"].info()"
   ]
  },
  {
   "cell_type": "code",
   "execution_count": 9,
   "metadata": {},
   "outputs": [
    {
     "name": "stdout",
     "output_type": "stream",
     "text": [
      "\n",
      "Option                        Current value       Other values                                      \n",
      "====================================================================================================\n",
      "dimensionality                1                   0, 1, 2                                           \n",
      "surface form                  False               False, differential, algebriac                    \n",
      "convection                    False               False, True                                       \n",
      "side reactions                List of length 0    List of strings                                   \n",
      "interfacial surface area      constant            constant                                          \n",
      "current collector             uniform             uniform, potential pair, potential pair quite conductive\n",
      "particle                      Fickian diffusion   Fickian diffusion, fast diffusion                 \n",
      "thermal                       isothermal          isothermal, x-full, x-lumped, xyz-lumped, lumped  \n",
      "thermal current collector     False               False, True                                       \n",
      "external submodels            List of length 0    List of strings                                   \n",
      "\n"
     ]
    }
   ],
   "source": [
    "options.info()"
   ]
  },
  {
   "cell_type": "code",
   "execution_count": 10,
   "metadata": {},
   "outputs": [
    {
     "name": "stdout",
     "output_type": "stream",
     "text": [
      "Current value = False (bool)\n",
      "Possible values = [False, differential, algebriac] (bool, str, str)\n"
     ]
    }
   ],
   "source": [
    "options[\"surface form\"].info()"
   ]
  },
  {
   "cell_type": "code",
   "execution_count": null,
   "metadata": {},
   "outputs": [],
   "source": []
  }
 ],
 "metadata": {
  "kernelspec": {
   "display_name": "Python 3",
   "language": "python",
   "name": "python3"
  },
  "language_info": {
   "codemirror_mode": {
    "name": "ipython",
    "version": 3
   },
   "file_extension": ".py",
   "mimetype": "text/x-python",
   "name": "python",
   "nbconvert_exporter": "python",
   "pygments_lexer": "ipython3",
   "version": "3.7.5"
  }
 },
 "nbformat": 4,
 "nbformat_minor": 2
}
