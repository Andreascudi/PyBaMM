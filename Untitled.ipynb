{
 "cells": [
  {
   "cell_type": "code",
   "execution_count": 1,
   "metadata": {},
   "outputs": [],
   "source": [
    "import pybamm"
   ]
  },
  {
   "cell_type": "code",
   "execution_count": 2,
   "metadata": {},
   "outputs": [],
   "source": [
    "model = pybamm.lead_acid.LOQS()"
   ]
  },
  {
   "cell_type": "code",
   "execution_count": 6,
   "metadata": {},
   "outputs": [
    {
     "data": {
      "text/plain": [
       "True"
      ]
     },
     "execution_count": 6,
     "metadata": {},
     "output_type": "execute_result"
    }
   ],
   "source": []
  },
  {
   "cell_type": "code",
   "execution_count": 2,
   "metadata": {},
   "outputs": [],
   "source": [
    "model = pybamm.lithium_ion.SPM()"
   ]
  },
  {
   "cell_type": "code",
   "execution_count": 3,
   "metadata": {},
   "outputs": [
    {
     "name": "stdout",
     "output_type": "stream",
     "text": [
      "\n",
      "Option                        Current value       Possible values                                   \n",
      "====================================================================================================\n",
      "operating mode                current             current, voltage, power                           \n",
      "dimensionality                0                   0, 1, 2                                           \n",
      "surface form                  False               False, differential, algebriac                    \n",
      "current collector             uniform             uniform, potential pair                           \n",
      "particle                      Fickian diffusion   Fickian diffusion, fast diffusion                 \n",
      "thermal                       isothermal          isothermal, x-full, x-lumped, xyz-lumped          \n",
      "thermal current collector     False               True, False                                       \n",
      "external submodels            List of length 0    List of strings                                   \n",
      "\n",
      "Presets\n",
      "==============================\n",
      "isothermal coin cell\n",
      "thermal coin cell\n",
      "1+1D isothermal pouch cell\n",
      "1+1D thermal pouch cell\n",
      "2+1D isothermal pouch cell\n",
      "2+1D thermal pouch cell\n",
      "\n"
     ]
    }
   ],
   "source": [
    "model.options.info()"
   ]
  },
  {
   "cell_type": "code",
   "execution_count": 6,
   "metadata": {},
   "outputs": [],
   "source": [
    "model.options_set(preset=\"thermal coin cell\")"
   ]
  },
  {
   "cell_type": "code",
   "execution_count": 8,
   "metadata": {},
   "outputs": [
    {
     "name": "stdout",
     "output_type": "stream",
     "text": [
      "\n",
      "Option                        Current value       Possible values                                   \n",
      "====================================================================================================\n",
      "operating mode                current             current, voltage, power                           \n",
      "dimensionality                0                   0, 1, 2                                           \n",
      "surface form                  False               False, differential, algebriac                    \n",
      "current collector             uniform             uniform, potential pair                           \n",
      "particle                      Fickian diffusion   Fickian diffusion, fast diffusion                 \n",
      "thermal                       x-lumped            isothermal, x-full, x-lumped, xyz-lumped          \n",
      "thermal current collector     False               True, False                                       \n",
      "external submodels            List of length 0    List of strings                                   \n",
      "\n",
      "Presets\n",
      "==============================\n",
      "isothermal coin cell\n",
      "thermal coin cell\n",
      "1+1D isothermal pouch cell\n",
      "1+1D thermal pouch cell\n",
      "2+1D isothermal pouch cell\n",
      "2+1D thermal pouch cell\n",
      "\n"
     ]
    }
   ],
   "source": [
    "model.options.info()"
   ]
  },
  {
   "cell_type": "code",
   "execution_count": 10,
   "metadata": {},
   "outputs": [],
   "source": [
    "model.build_model()"
   ]
  },
  {
   "cell_type": "code",
   "execution_count": null,
   "metadata": {},
   "outputs": [],
   "source": []
  }
 ],
 "metadata": {
  "kernelspec": {
   "display_name": "Python 3",
   "language": "python",
   "name": "python3"
  },
  "language_info": {
   "codemirror_mode": {
    "name": "ipython",
    "version": 3
   },
   "file_extension": ".py",
   "mimetype": "text/x-python",
   "name": "python",
   "nbconvert_exporter": "python",
   "pygments_lexer": "ipython3",
   "version": "3.7.5"
  }
 },
 "nbformat": 4,
 "nbformat_minor": 2
}
