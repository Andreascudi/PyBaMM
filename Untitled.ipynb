{
 "cells": [
  {
   "cell_type": "code",
   "execution_count": 1,
   "metadata": {},
   "outputs": [],
   "source": [
    "import pybamm"
   ]
  },
  {
   "cell_type": "code",
   "execution_count": 2,
   "metadata": {},
   "outputs": [
    {
     "name": "stdout",
     "output_type": "stream",
     "text": [
      "\n",
      "Option                        Current value       Possible values                                   \n",
      "====================================================================================================\n",
      "dimensionality                0                   0, 1, 2                                           \n",
      "surface form                  False               False, differential, algebriac                    \n",
      "convection                    False               False, True                                       \n",
      "side reactions                List of length 0    List of strings                                   \n",
      "interfacial surface area      constant            constant                                          \n",
      "current collector             uniform             uniform, potential pair, potential pair quite conductive\n",
      "particle                      Fickian diffusion   Fickian diffusion, fast diffusion                 \n",
      "thermal                       isothermal          isothermal, x-full, x-lumped, xyz-lumped, lumped  \n",
      "thermal current collector     False               False, True                                       \n",
      "external submodels            List of length 0    List of strings                                   \n",
      "\n"
     ]
    }
   ],
   "source": [
    "options = pybamm.ModelOptions()\n",
    "options.info()"
   ]
  },
  {
   "cell_type": "code",
   "execution_count": 3,
   "metadata": {},
   "outputs": [
    {
     "name": "stdout",
     "output_type": "stream",
     "text": [
      "\n",
      "Option                        Current value       Possible values                                   \n",
      "====================================================================================================\n",
      "dimensionality                2                   0, 1, 2                                           \n",
      "surface form                  False               False, differential, algebriac                    \n",
      "convection                    False               False, True                                       \n",
      "side reactions                List of length 0    List of strings                                   \n",
      "interfacial surface area      constant            constant                                          \n",
      "current collector             potential pair      uniform, potential pair, potential pair quite conductive\n",
      "particle                      Fickian diffusion   Fickian diffusion, fast diffusion                 \n",
      "thermal                       x-lumped            isothermal, x-full, x-lumped, xyz-lumped, lumped  \n",
      "thermal current collector     True                False, True                                       \n",
      "external submodels            List of length 0    List of strings                                   \n",
      "\n"
     ]
    }
   ],
   "source": [
    "options.thermal_pouch_cell_2_plus_1D()\n",
    "options.info()"
   ]
  },
  {
   "cell_type": "code",
   "execution_count": 4,
   "metadata": {},
   "outputs": [],
   "source": [
    "options[\"surface form\"] = \"differential\""
   ]
  },
  {
   "cell_type": "code",
   "execution_count": 5,
   "metadata": {},
   "outputs": [
    {
     "name": "stdout",
     "output_type": "stream",
     "text": [
      "Current value = differential (str)\n",
      "Possible values = [False, differential, algebriac] (bool, str, str)\n"
     ]
    }
   ],
   "source": [
    "options[\"surface form\"].info()"
   ]
  },
  {
   "cell_type": "code",
   "execution_count": null,
   "metadata": {
    "collapsed": true
   },
   "outputs": [],
   "source": [
    "options[\"the\"]"
   ]
  }
 ],
 "metadata": {
  "kernelspec": {
   "display_name": "Python 3",
   "language": "python",
   "name": "python3"
  },
  "language_info": {
   "codemirror_mode": {
    "name": "ipython",
    "version": 3
   },
   "file_extension": ".py",
   "mimetype": "text/x-python",
   "name": "python",
   "nbconvert_exporter": "python",
   "pygments_lexer": "ipython3",
   "version": "3.7.5"
  }
 },
 "nbformat": 4,
 "nbformat_minor": 2
}
